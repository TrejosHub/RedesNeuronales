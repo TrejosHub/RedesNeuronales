{
  "nbformat": 4,
  "nbformat_minor": 0,
  "metadata": {
    "colab": {
      "provenance": [],
      "authorship_tag": "ABX9TyMxf5vRHeFEQg3Cz2GCQNZk",
      "include_colab_link": true
    },
    "kernelspec": {
      "name": "python3",
      "display_name": "Python 3"
    },
    "language_info": {
      "name": "python"
    }
  },
  "cells": [
    {
      "cell_type": "markdown",
      "metadata": {
        "id": "view-in-github",
        "colab_type": "text"
      },
      "source": [
        "<a href=\"https://colab.research.google.com/github/TrejosHub/RedesNeuronales/blob/main/Ejercicios_Soluci%C3%B3n_Num%C3%A9rica_de_Ecuaciones_Lineales.ipynb\" target=\"_parent\"><img src=\"https://colab.research.google.com/assets/colab-badge.svg\" alt=\"Open In Colab\"/></a>"
      ]
    },
    {
      "cell_type": "markdown",
      "source": [
        "Ejercicio 1: Eliminación de Gauss"
      ],
      "metadata": {
        "id": "JTGVWNCKR14O"
      }
    },
    {
      "cell_type": "code",
      "execution_count": 2,
      "metadata": {
        "colab": {
          "base_uri": "https://localhost:8080/"
        },
        "id": "sGOYMkkhRNTQ",
        "outputId": "d48265c0-670d-4152-df94-d33209d33f0a"
      },
      "outputs": [
        {
          "output_type": "stream",
          "name": "stdout",
          "text": [
            "Solución del sistema 1:\n",
            "g1 = -1.300000, g2 = 0.400000, g3 = 1.900000\n",
            "\n",
            "Solución del sistema 2:\n",
            "g1 = 2.219070, g2 = -25.071871, g3 = 6.571990\n"
          ]
        }
      ],
      "source": [
        "import numpy as np\n",
        "\n",
        "# --- Planteamiento 1 ---\n",
        "A1 = np.array([[2, 3, 1],\n",
        "               [4, 1, 2],\n",
        "               [3, 4, 2]], dtype=float)\n",
        "\n",
        "b1 = np.array([0.5, -1.0, 1.5], dtype=float)\n",
        "\n",
        "# Resolviendo el sistema de ecuaciones usando eliminación de Gauss\n",
        "sol1 = np.linalg.solve(A1, b1)\n",
        "\n",
        "# Mostrar la solución\n",
        "print(\"Solución del sistema 1:\")\n",
        "print(f\"g1 = {sol1[0]:.6f}, g2 = {sol1[1]:.6f}, g3 = {sol1[2]:.6f}\")\n",
        "\n",
        "# --- Planteamiento 2 ---\n",
        "A2 = np.array([[3, -0.1, -0.2],\n",
        "               [0.1, 0.7, -0.3],\n",
        "               [0.3, -0.2, 10]], dtype=float)\n",
        "\n",
        "b2 = np.array([7.85, -19.3, 71.4], dtype=float)\n",
        "\n",
        "# Resolviendo el sistema de ecuaciones usando eliminación de Gauss\n",
        "sol2 = np.linalg.solve(A2, b2)\n",
        "\n",
        "# Mostrar la solución\n",
        "print(\"\\nSolución del sistema 2:\")\n",
        "print(f\"g1 = {sol2[0]:.6f}, g2 = {sol2[1]:.6f}, g3 = {sol2[2]:.6f}\")\n",
        "\n"
      ]
    },
    {
      "cell_type": "markdown",
      "source": [
        "Ejercicio 2: Matriz Inversa"
      ],
      "metadata": {
        "id": "FIpEU4-KSqzw"
      }
    },
    {
      "cell_type": "code",
      "source": [
        "import numpy as np\n",
        "\n",
        "# Matriz de coeficientes A\n",
        "A = np.array([[3, -0.1, -0.2],\n",
        "              [0.1, 0.7, -0.3],\n",
        "              [0.3, -0.2, 10]], dtype=float)\n",
        "\n",
        "# Vector de términos independientes b\n",
        "b = np.array([7.85, -19.3, 71.4], dtype=float)\n",
        "\n",
        "# Calculando la solución usando la matriz inversa\n",
        "A_inv = np.linalg.inv(A)  # Inversión de la matriz A\n",
        "sol = np.dot(A_inv, b)  # Multiplicación de A_inv por b\n",
        "\n",
        "# Mostrar la solución\n",
        "print(\"Solución del sistema (pesos ajustados):\")\n",
        "print(f\"w1 = {sol[0]:.6f}, w2 = {sol[1]:.6f}, w3 = {sol[2]:.6f}\")"
      ],
      "metadata": {
        "colab": {
          "base_uri": "https://localhost:8080/"
        },
        "id": "lk9gtmO4TCQ9",
        "outputId": "d6af0203-6c12-4851-8392-1b6352bec7a6"
      },
      "execution_count": 3,
      "outputs": [
        {
          "output_type": "stream",
          "name": "stdout",
          "text": [
            "Solución del sistema (pesos ajustados):\n",
            "w1 = 2.219070, w2 = -25.071871, w3 = 6.571990\n"
          ]
        }
      ]
    },
    {
      "cell_type": "markdown",
      "source": [
        "Ejercicio 3: Método de Jacobi"
      ],
      "metadata": {
        "id": "PqWAE1eUTCm1"
      }
    },
    {
      "cell_type": "code",
      "source": [
        "import numpy as np\n",
        "\n",
        "def jacobi(A, b, x0, tol=1e-10, max_iter=1000):\n",
        "    n = len(b)\n",
        "    x = x0\n",
        "    for k in range(max_iter):\n",
        "        x_new = np.zeros_like(x)\n",
        "        for i in range(n):\n",
        "            s = sum(A[i][j] * x[j] for j in range(n) if i != j)\n",
        "            x_new[i] = (b[i] - s) / A[i, i]\n",
        "        if np.linalg.norm(x_new - x, ord=np.inf) < tol:\n",
        "            return x_new\n",
        "        x = x_new\n",
        "    return x\n",
        "\n",
        "# Matriz de coeficientes\n",
        "A = np.array([[3, -0.1, -0.2],\n",
        "              [0.1, 0.7, -0.3],\n",
        "              [0.3, -0.2, 10]], dtype=float)\n",
        "\n",
        "# Vector de términos independientes\n",
        "b = np.array([7.85, -19.3, 71.4], dtype=float)\n",
        "\n",
        "# Aproximación inicial\n",
        "x0 = np.zeros_like(b)\n",
        "\n",
        "# Aplicar el método de Jacobi\n",
        "sol = jacobi(A, b, x0)\n",
        "\n",
        "# Mostrar la solución\n",
        "print(\"Pesos ajustados usando Jacobi:\")\n",
        "print(sol)"
      ],
      "metadata": {
        "colab": {
          "base_uri": "https://localhost:8080/"
        },
        "id": "ciOUEKRxTFYS",
        "outputId": "4cc19b20-5c61-4516-d186-7e835d8b1ac6"
      },
      "execution_count": 4,
      "outputs": [
        {
          "output_type": "stream",
          "name": "stdout",
          "text": [
            "Pesos ajustados usando Jacobi:\n",
            "[  2.21907032 -25.07187128   6.57199046]\n"
          ]
        }
      ]
    },
    {
      "cell_type": "markdown",
      "source": [
        "Método de Gauss-Seidel"
      ],
      "metadata": {
        "id": "Shn9LYhzTFrY"
      }
    },
    {
      "cell_type": "code",
      "source": [
        "import numpy as np\n",
        "\n",
        "def gauss_seidel(A, b, x0, tol=1e-10, max_iter=1000):\n",
        "    n = len(b)\n",
        "    x = x0\n",
        "    for k in range(max_iter):\n",
        "        x_new = np.copy(x)\n",
        "        for i in range(n):\n",
        "            s1 = sum(A[i][j] * x_new[j] for j in range(i))\n",
        "            s2 = sum(A[i][j] * x[j] for j in range(i + 1, n))\n",
        "            x_new[i] = (b[i] - s1 - s2) / A[i][i]\n",
        "        if np.linalg.norm(x_new - x, ord=np.inf) < tol:\n",
        "            return x_new, k\n",
        "        x = x_new\n",
        "    return x, max_iter\n",
        "\n",
        "# Matriz de coeficientes\n",
        "A = np.array([[10, -1, 2],\n",
        "              [-1, 11, -1],\n",
        "              [2, -1, 10]], dtype=float)\n",
        "\n",
        "# Vector de términos independientes\n",
        "b = np.array([5, 6, 7], dtype=float)\n",
        "\n",
        "# Valor inicial de las incógnitas\n",
        "x0 = np.zeros_like(b)\n",
        "\n",
        "# Resolver el sistema usando el método de Gauss-Seidel\n",
        "sol, iteraciones = gauss_seidel(A, b, x0)\n",
        "\n",
        "# Mostrar la solución y el número de iteraciones\n",
        "print(\"Solución del sistema:\")\n",
        "print(sol)\n",
        "print(f\"Número de iteraciones: {iteraciones}\")\n",
        "\n"
      ],
      "metadata": {
        "colab": {
          "base_uri": "https://localhost:8080/"
        },
        "id": "PhP-Z2GdTHxB",
        "outputId": "f21b9ae8-b1e4-471c-e93d-e02f4a02b8ef"
      },
      "execution_count": 5,
      "outputs": [
        {
          "output_type": "stream",
          "name": "stdout",
          "text": [
            "Solución del sistema:\n",
            "[0.42884615 0.64615385 0.67884615]\n",
            "Número de iteraciones: 8\n"
          ]
        }
      ]
    },
    {
      "cell_type": "markdown",
      "source": [
        "Descomposición de Cholesky"
      ],
      "metadata": {
        "id": "vw1Lq4qnTKv1"
      }
    },
    {
      "cell_type": "code",
      "source": [
        "from scipy.linalg import cholesky\n",
        "import numpy as np\n",
        "\n",
        "# Definir la matriz A y el vector b\n",
        "A = np.array([[25, 15, -5],\n",
        "              [15, 18,  0],\n",
        "              [-5,  0, 11]], dtype=float)\n",
        "\n",
        "b = np.array([350, 400, 200], dtype=float)\n",
        "\n",
        "# Verificar que A es simétrica y definida positiva\n",
        "if np.allclose(A, A.T) and np.all(np.linalg.eigvals(A) > 0):\n",
        "    # Descomposición de Cholesky\n",
        "    L = cholesky(A, lower=True)\n",
        "\n",
        "    # Resolver L * y = b\n",
        "    y = np.linalg.solve(L, b)\n",
        "\n",
        "    # Resolver L^T * x = y\n",
        "    x = np.linalg.solve(L.T, y)\n",
        "\n",
        "    print(\"Pesos ajustados usando Cholesky:\")\n",
        "    print(x)\n",
        "else:\n",
        "    print(\"La matriz A no es simétrica o no es definida positiva, Cholesky no es aplicable.\")"
      ],
      "metadata": {
        "colab": {
          "base_uri": "https://localhost:8080/"
        },
        "id": "-CPZxq8GTLOl",
        "outputId": "78eab68c-a052-41dc-88e5-515c41295d1a"
      },
      "execution_count": 6,
      "outputs": [
        {
          "output_type": "stream",
          "name": "stdout",
          "text": [
            "Pesos ajustados usando Cholesky:\n",
            "[10.51851852 13.45679012 22.96296296]\n"
          ]
        }
      ]
    }
  ]
}